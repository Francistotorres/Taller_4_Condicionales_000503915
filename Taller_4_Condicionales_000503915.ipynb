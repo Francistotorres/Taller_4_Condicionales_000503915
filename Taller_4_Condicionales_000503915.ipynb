{
  "nbformat": 4,
  "nbformat_minor": 0,
  "metadata": {
    "colab": {
      "provenance": [],
      "authorship_tag": "ABX9TyNmIh56E9oZNSsOyjJjATsF",
      "include_colab_link": true
    },
    "kernelspec": {
      "name": "python3",
      "display_name": "Python 3"
    },
    "language_info": {
      "name": "python"
    }
  },
  "cells": [
    {
      "cell_type": "markdown",
      "metadata": {
        "id": "view-in-github",
        "colab_type": "text"
      },
      "source": [
        "<a href=\"https://colab.research.google.com/github/Francistotorres/Taller_4_Condicionales_000503915/blob/main/Taller_4_Condicionales_000503915.ipynb\" target=\"_parent\"><img src=\"https://colab.research.google.com/assets/colab-badge.svg\" alt=\"Open In Colab\"/></a>"
      ]
    },
    {
      "cell_type": "markdown",
      "source": [
        "\n",
        "# Problema 1.\n",
        "\n",
        " - Programa para ver si aprobo o reprobo la asignatura.\n",
        ""
      ],
      "metadata": {
        "id": "h07_P0gEeTsS"
      }
    },
    {
      "cell_type": "code",
      "source": [
        "Calificación = float(input(\"Puntuación\"))\n",
        "\n",
        "if Calificación >= 3.0:\n",
        "    print(\"aprobo la asignatura\")\n",
        "else:\n",
        "    print(\"reprobo las asignatura\")\n"
      ],
      "metadata": {
        "colab": {
          "base_uri": "https://localhost:8080/"
        },
        "id": "lUXzC2VpfH50",
        "outputId": "6b507ada-0a7e-4dc1-88a9-8d9ce21e996e"
      },
      "execution_count": 4,
      "outputs": [
        {
          "output_type": "stream",
          "name": "stdout",
          "text": [
            "Puntuación 3\n",
            "aprobo la asignatura\n"
          ]
        }
      ]
    },
    {
      "cell_type": "markdown",
      "source": [
        "# Problema 2.\n",
        "\n",
        " - programa para ver si un numero es positivo, negartivo o cero.\n",
        ""
      ],
      "metadata": {
        "id": "iI4Q2BSjhXde"
      }
    },
    {
      "cell_type": "code",
      "source": [
        "numero = float(input(\"el numero es\"))\n",
        "\n",
        "\n",
        "if numero > 0:\n",
        "    print(\"positivo\")\n",
        "\n",
        "if numero < 0:\n",
        "    print(\"negativo\")\n",
        "\n",
        "if numero == 0:\n",
        "\n",
        "    print(\"cero\")\n"
      ],
      "metadata": {
        "colab": {
          "base_uri": "https://localhost:8080/"
        },
        "id": "5pXfrLaFhwIs",
        "outputId": "04dd46da-cc51-473b-871d-f99fdf87116f"
      },
      "execution_count": 15,
      "outputs": [
        {
          "output_type": "stream",
          "name": "stdout",
          "text": [
            "el numero es 0\n",
            "cero\n"
          ]
        }
      ]
    },
    {
      "cell_type": "markdown",
      "source": [
        "# Problema 3.\n",
        " - programa para verificar la contraseña."
      ],
      "metadata": {
        "id": "cxa2nPjFoljQ"
      }
    },
    {
      "cell_type": "code",
      "source": [
        "Password = input(\"ingrese la contraseña \")\n",
        "\n",
        "if Password == \"python123\":\n",
        "   print(\"CORRECTO\")\n",
        "\n",
        "\n",
        "else:\n",
        "    print(\"INCORRECTO\")"
      ],
      "metadata": {
        "colab": {
          "base_uri": "https://localhost:8080/"
        },
        "id": "WsufrpXjohFP",
        "outputId": "4ee2fc09-bdc1-4d61-8e02-af6288243d86"
      },
      "execution_count": 33,
      "outputs": [
        {
          "output_type": "stream",
          "name": "stdout",
          "text": [
            "ingrese la contraseña python123\n",
            "CORRECTO\n"
          ]
        }
      ]
    },
    {
      "cell_type": "markdown",
      "source": [
        "# Problema 4.\n",
        "- determinar si un numero es par o impar.\n"
      ],
      "metadata": {
        "id": "CACE-918tany"
      }
    }
  ]
}