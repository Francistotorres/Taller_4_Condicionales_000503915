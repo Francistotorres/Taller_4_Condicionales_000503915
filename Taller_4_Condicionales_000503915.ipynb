{
  "nbformat": 4,
  "nbformat_minor": 0,
  "metadata": {
    "colab": {
      "provenance": [],
      "authorship_tag": "ABX9TyM/vGGiQkefhZKsPn8ax9hr",
      "include_colab_link": true
    },
    "kernelspec": {
      "name": "python3",
      "display_name": "Python 3"
    },
    "language_info": {
      "name": "python"
    }
  },
  "cells": [
    {
      "cell_type": "markdown",
      "metadata": {
        "id": "view-in-github",
        "colab_type": "text"
      },
      "source": [
        "<a href=\"https://colab.research.google.com/github/Francistotorres/Taller_4_Condicionales_000503915/blob/main/Taller_4_Condicionales_000503915.ipynb\" target=\"_parent\"><img src=\"https://colab.research.google.com/assets/colab-badge.svg\" alt=\"Open In Colab\"/></a>"
      ]
    },
    {
      "cell_type": "markdown",
      "source": [
        "#  Francisco Javier Torres Fuentes\n",
        "- ID: 000503915"
      ],
      "metadata": {
        "id": "dwiAqr6rzmaz"
      }
    },
    {
      "cell_type": "markdown",
      "source": [
        "\n",
        "# Problema 1.\n",
        "\n",
        " - Programa para ver si aprobo o reprobo la asignatura.\n"
      ],
      "metadata": {
        "id": "h07_P0gEeTsS"
      }
    },
    {
      "cell_type": "code",
      "source": [
        "Calificación = float(input(\"Puntuación\"))\n",
        "\n",
        "if Calificación >= 3.0:\n",
        "    print(\"aprobo la asignatura\")\n",
        "else:\n",
        "    print(\"reprobo las asignatura\")\n"
      ],
      "metadata": {
        "colab": {
          "base_uri": "https://localhost:8080/"
        },
        "id": "lUXzC2VpfH50",
        "outputId": "6b507ada-0a7e-4dc1-88a9-8d9ce21e996e"
      },
      "execution_count": null,
      "outputs": [
        {
          "output_type": "stream",
          "name": "stdout",
          "text": [
            "Puntuación 3\n",
            "aprobo la asignatura\n"
          ]
        }
      ]
    },
    {
      "cell_type": "markdown",
      "source": [
        "# Problema 2.\n",
        "\n",
        " - programa para ver si un numero es positivo, negartivo o cero.\n"
      ],
      "metadata": {
        "id": "iI4Q2BSjhXde"
      }
    },
    {
      "cell_type": "code",
      "source": [
        "numero = float(input(\"el numero es\"))\n",
        "\n",
        "\n",
        "if numero > 0:\n",
        "    print(\"positivo\")\n",
        "\n",
        "if numero < 0:\n",
        "    print(\"negativo\")\n",
        "\n",
        "if numero == 0:\n",
        "\n",
        "    print(\"cero\")\n"
      ],
      "metadata": {
        "colab": {
          "base_uri": "https://localhost:8080/"
        },
        "id": "5pXfrLaFhwIs",
        "outputId": "04dd46da-cc51-473b-871d-f99fdf87116f"
      },
      "execution_count": null,
      "outputs": [
        {
          "output_type": "stream",
          "name": "stdout",
          "text": [
            "el numero es 0\n",
            "cero\n"
          ]
        }
      ]
    },
    {
      "cell_type": "markdown",
      "source": [
        "# Problema 3.\n",
        " - programa para verificar la contraseña."
      ],
      "metadata": {
        "id": "cxa2nPjFoljQ"
      }
    },
    {
      "cell_type": "code",
      "source": [
        "Password = input(\"ingrese la contraseña \")\n",
        "\n",
        "if Password == \"python123\":\n",
        "   print(\"CORRECTO\")\n",
        "\n",
        "\n",
        "else:\n",
        "    print(\"INCORRECTO\")"
      ],
      "metadata": {
        "colab": {
          "base_uri": "https://localhost:8080/"
        },
        "id": "WsufrpXjohFP",
        "outputId": "4ee2fc09-bdc1-4d61-8e02-af6288243d86"
      },
      "execution_count": null,
      "outputs": [
        {
          "output_type": "stream",
          "name": "stdout",
          "text": [
            "ingrese la contraseña python123\n",
            "CORRECTO\n"
          ]
        }
      ]
    },
    {
      "cell_type": "markdown",
      "source": [
        "# Problema 4.\n",
        "- determinar si un numero es par o impar.\n"
      ],
      "metadata": {
        "id": "CACE-918tany"
      }
    },
    {
      "cell_type": "code",
      "source": [
        "numero = float(input(\"ingrese el numero\"))\n",
        "\n",
        "if numero % 2 == 0:\n",
        "    print(\"es par\")\n",
        "\n",
        "else:\n",
        "  print(\"no es par\")"
      ],
      "metadata": {
        "colab": {
          "base_uri": "https://localhost:8080/"
        },
        "id": "s2ymw5BLSuAg",
        "outputId": "39610cdd-93b3-4843-cffc-3ea7d1cee7b5"
      },
      "execution_count": 3,
      "outputs": [
        {
          "output_type": "stream",
          "name": "stdout",
          "text": [
            "ingrese el numero 3\n",
            "no es par\n"
          ]
        }
      ]
    },
    {
      "cell_type": "markdown",
      "source": [
        "# Problema 5\n",
        "- programa en que solicite al usuario ingresar cinco números y luego determine e imprima cuál de los cinco números es."
      ],
      "metadata": {
        "id": "iFyqvHKYmdV8"
      }
    },
    {
      "cell_type": "code",
      "source": [
        "numero1 = float(input(\"ingrese el numero uno\"))\n",
        "numero2 = float(input(\"ingrese el numero dos\"))\n",
        "numero3 = float(input(\"ingrese el numero tres\"))\n",
        "numero4 = float(input(\"ingrese el numero cuatro\"))\n",
        "numero5 = float(input(\"ingrese el numero cinco\"))\n",
        "\n",
        "if numero1 >= numero2 and numero1 >= numero3 and numero1 >= numero4 and numero1 >= numero5 and numero1:\n",
        "  mayor = numero1\n",
        "\n",
        "if numero2 >= numero1 and numero2 >= numero3 and numero2 >= numero4 and numero2 >= numero5 and numero2:\n",
        "  mayor = numero2\n",
        "\n",
        "if numero3 >= numero1 and numero3 >= numero2 and numero3 >= numero4 and numero3 >= numero5 and numero3:\n",
        "  mayor = numero3\n",
        "\n",
        "if numero4 >= numero1 and numero4 >= numero2 and numero4 >= numero3 and numero4 >= numero5 and numero4:\n",
        "  mayor = numero4\n",
        "\n",
        "if numero5 >= numero1 and numero5 >= numero2 and numero5 >= numero3 and numero5 >= numero4 and numero5:\n",
        "  mayor = numero5\n",
        "\n",
        "print(\"el numero mayor es\",mayor)"
      ],
      "metadata": {
        "colab": {
          "base_uri": "https://localhost:8080/"
        },
        "id": "0n4DrLkDoe3X",
        "outputId": "c94bead7-8a85-4ef0-fa29-16f5d579f7fe"
      },
      "execution_count": 6,
      "outputs": [
        {
          "output_type": "stream",
          "name": "stdout",
          "text": [
            "ingrese el numero uno 12\n",
            "ingrese el numero dos 13\n",
            "ingrese el numero tres14\n",
            "ingrese el numero cuatro15\n",
            "ingrese el numero cinco20\n",
            "el numero mayor es 20.0\n"
          ]
        }
      ]
    },
    {
      "cell_type": "markdown",
      "source": [
        "# Problema 6\n",
        "- programa en Pythonque solicite al usuario ingresar una edad y determine e imprima en qué  categoría  se  encuentra  la  persona."
      ],
      "metadata": {
        "id": "dwjaVu_ihXab"
      }
    },
    {
      "cell_type": "code",
      "source": [
        "Edad = float(input(\"ingrese su edad\"))\n",
        "\n",
        "if Edad >= 0 and Edad <= 0:\n",
        "  print(\"niño\")\n",
        "\n",
        "if Edad >= 13 and Edad <= 19:\n",
        "  print(\"adolescente\")\n",
        "\n",
        "if Edad >= 20 and Edad <= 64:\n",
        "  print(\"adulto\")\n",
        "\n",
        "if Edad >= 65:\n",
        "  print(\"adulto mayor\")"
      ],
      "metadata": {
        "colab": {
          "base_uri": "https://localhost:8080/"
        },
        "id": "hKDqYLJhi6Hg",
        "outputId": "82dda00d-015e-4fa1-a274-b3e21bc381be"
      },
      "execution_count": 5,
      "outputs": [
        {
          "output_type": "stream",
          "name": "stdout",
          "text": [
            "ingrese su edad 19\n",
            "adolescente\n"
          ]
        }
      ]
    }
  ]
}